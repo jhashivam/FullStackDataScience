{
 "cells": [
  {
   "cell_type": "code",
   "execution_count": 1,
   "id": "ac15a4cb",
   "metadata": {},
   "outputs": [
    {
     "name": "stdout",
     "output_type": "stream",
     "text": [
      "this is a valid statement\n"
     ]
    }
   ],
   "source": [
    "a = 10\n",
    "b = 20\n",
    "if a == 10 or b > 20:\n",
    "    print(\"this is a valid statement\")\n",
    "elif a == 10 and b <=20 :\n",
    "    print(\"This is also valid inside elif statement\")\n",
    "else: \n",
    "    print(\"This is not avalid statement\")"
   ]
  },
  {
   "cell_type": "code",
   "execution_count": 2,
   "id": "08b57032",
   "metadata": {},
   "outputs": [
    {
     "ename": "KeyboardInterrupt",
     "evalue": "Interrupted by user",
     "output_type": "error",
     "traceback": [
      "\u001b[0;31m---------------------------------------------------------------------------\u001b[0m",
      "\u001b[0;31mKeyboardInterrupt\u001b[0m                         Traceback (most recent call last)",
      "\u001b[0;32m/var/folders/9t/0rf19dxs4xb82c79_12x19ph0000gn/T/ipykernel_82819/3154856057.py\u001b[0m in \u001b[0;36m<module>\u001b[0;34m\u001b[0m\n\u001b[0;32m----> 1\u001b[0;31m \u001b[0mFirst_name\u001b[0m \u001b[0;34m=\u001b[0m \u001b[0minput\u001b[0m\u001b[0;34m(\u001b[0m\u001b[0;34m)\u001b[0m\u001b[0;34m\u001b[0m\u001b[0;34m\u001b[0m\u001b[0m\n\u001b[0m\u001b[1;32m      2\u001b[0m \u001b[0mLast_name\u001b[0m \u001b[0;34m=\u001b[0m \u001b[0minput\u001b[0m\u001b[0;34m(\u001b[0m\u001b[0;34m)\u001b[0m\u001b[0;34m\u001b[0m\u001b[0;34m\u001b[0m\u001b[0m\n\u001b[1;32m      3\u001b[0m \u001b[0;34m\u001b[0m\u001b[0m\n\u001b[1;32m      4\u001b[0m \u001b[0;32mif\u001b[0m \u001b[0mFirst_name\u001b[0m \u001b[0;34m==\u001b[0m \u001b[0;34m'Shivam'\u001b[0m \u001b[0;32mand\u001b[0m \u001b[0mLast_name\u001b[0m \u001b[0;34m==\u001b[0m \u001b[0;34m'Jha'\u001b[0m\u001b[0;34m:\u001b[0m\u001b[0;34m\u001b[0m\u001b[0;34m\u001b[0m\u001b[0m\n\u001b[1;32m      5\u001b[0m     \u001b[0mprint\u001b[0m\u001b[0;34m(\u001b[0m\u001b[0;34m\"My fisrt name is {}\"\u001b[0m\u001b[0;34m.\u001b[0m\u001b[0mformat\u001b[0m\u001b[0;34m(\u001b[0m\u001b[0mFirst_name\u001b[0m\u001b[0;34m)\u001b[0m \u001b[0;34m,\u001b[0m\u001b[0;34m\"and last name is {}\"\u001b[0m\u001b[0;34m.\u001b[0m\u001b[0mformat\u001b[0m\u001b[0;34m(\u001b[0m\u001b[0mLast_name\u001b[0m\u001b[0;34m)\u001b[0m\u001b[0;34m)\u001b[0m\u001b[0;34m\u001b[0m\u001b[0;34m\u001b[0m\u001b[0m\n",
      "\u001b[0;32m/opt/anaconda3/lib/python3.9/site-packages/ipykernel/kernelbase.py\u001b[0m in \u001b[0;36mraw_input\u001b[0;34m(self, prompt)\u001b[0m\n\u001b[1;32m   1004\u001b[0m                 \u001b[0;34m\"raw_input was called, but this frontend does not support input requests.\"\u001b[0m\u001b[0;34m\u001b[0m\u001b[0;34m\u001b[0m\u001b[0m\n\u001b[1;32m   1005\u001b[0m             )\n\u001b[0;32m-> 1006\u001b[0;31m         return self._input_request(\n\u001b[0m\u001b[1;32m   1007\u001b[0m             \u001b[0mstr\u001b[0m\u001b[0;34m(\u001b[0m\u001b[0mprompt\u001b[0m\u001b[0;34m)\u001b[0m\u001b[0;34m,\u001b[0m\u001b[0;34m\u001b[0m\u001b[0;34m\u001b[0m\u001b[0m\n\u001b[1;32m   1008\u001b[0m             \u001b[0mself\u001b[0m\u001b[0;34m.\u001b[0m\u001b[0m_parent_ident\u001b[0m\u001b[0;34m[\u001b[0m\u001b[0;34m\"shell\"\u001b[0m\u001b[0;34m]\u001b[0m\u001b[0;34m,\u001b[0m\u001b[0;34m\u001b[0m\u001b[0;34m\u001b[0m\u001b[0m\n",
      "\u001b[0;32m/opt/anaconda3/lib/python3.9/site-packages/ipykernel/kernelbase.py\u001b[0m in \u001b[0;36m_input_request\u001b[0;34m(self, prompt, ident, parent, password)\u001b[0m\n\u001b[1;32m   1049\u001b[0m             \u001b[0;32mexcept\u001b[0m \u001b[0mKeyboardInterrupt\u001b[0m\u001b[0;34m:\u001b[0m\u001b[0;34m\u001b[0m\u001b[0;34m\u001b[0m\u001b[0m\n\u001b[1;32m   1050\u001b[0m                 \u001b[0;31m# re-raise KeyboardInterrupt, to truncate traceback\u001b[0m\u001b[0;34m\u001b[0m\u001b[0;34m\u001b[0m\u001b[0m\n\u001b[0;32m-> 1051\u001b[0;31m                 \u001b[0;32mraise\u001b[0m \u001b[0mKeyboardInterrupt\u001b[0m\u001b[0;34m(\u001b[0m\u001b[0;34m\"Interrupted by user\"\u001b[0m\u001b[0;34m)\u001b[0m \u001b[0;32mfrom\u001b[0m \u001b[0;32mNone\u001b[0m\u001b[0;34m\u001b[0m\u001b[0;34m\u001b[0m\u001b[0m\n\u001b[0m\u001b[1;32m   1052\u001b[0m             \u001b[0;32mexcept\u001b[0m \u001b[0mException\u001b[0m\u001b[0;34m:\u001b[0m\u001b[0;34m\u001b[0m\u001b[0;34m\u001b[0m\u001b[0m\n\u001b[1;32m   1053\u001b[0m                 \u001b[0mself\u001b[0m\u001b[0;34m.\u001b[0m\u001b[0mlog\u001b[0m\u001b[0;34m.\u001b[0m\u001b[0mwarning\u001b[0m\u001b[0;34m(\u001b[0m\u001b[0;34m\"Invalid Message:\"\u001b[0m\u001b[0;34m,\u001b[0m \u001b[0mexc_info\u001b[0m\u001b[0;34m=\u001b[0m\u001b[0;32mTrue\u001b[0m\u001b[0;34m)\u001b[0m\u001b[0;34m\u001b[0m\u001b[0;34m\u001b[0m\u001b[0m\n",
      "\u001b[0;31mKeyboardInterrupt\u001b[0m: Interrupted by user"
     ]
    }
   ],
   "source": [
    "First_name = input()\n",
    "Last_name = input()\n",
    "\n",
    "if First_name == 'Shivam' and Last_name == 'Jha':\n",
    "    print(\"My fisrt name is {}\".format(First_name) ,\"and last name is {}\".format(Last_name))\n",
    "else:\n",
    "    print(\"This is not my name\")"
   ]
  },
  {
   "cell_type": "code",
   "execution_count": null,
   "id": "483df87a",
   "metadata": {},
   "outputs": [],
   "source": [
    "initial_speed = 0\n",
    "final_speed = 10\n",
    "\n",
    "count = 1\n",
    "while  initial_speed < final_speed:\n",
    "    print(\"Speed is normal\")\n",
    "    count = count + 1\n",
    "    if count == 5:\n",
    "        break"
   ]
  },
  {
   "cell_type": "code",
   "execution_count": null,
   "id": "f28c7a8d",
   "metadata": {},
   "outputs": [],
   "source": [
    "i = 3\n",
    "j = 6\n",
    "\n",
    "while i < j:\n",
    "    print(i)\n",
    "    i = i + 1\n",
    "else: \n",
    "    print(\"What is this ?\")"
   ]
  },
  {
   "cell_type": "code",
   "execution_count": null,
   "id": "184052f9",
   "metadata": {},
   "outputs": [],
   "source": [
    "pwd"
   ]
  },
  {
   "cell_type": "code",
   "execution_count": null,
   "id": "2f537a3c",
   "metadata": {},
   "outputs": [],
   "source": [
    "notes = 5\n",
    "i =1\n",
    "j = 1\n",
    "while i < notes:\n",
    "    print(i)\n",
    "    i+= 1\n",
    "else: \n",
    "    while j < 2:\n",
    "        print(i)\n",
    "        j = j +1\n",
    "    print(\"No 10 rs notes are available\")"
   ]
  },
  {
   "cell_type": "code",
   "execution_count": null,
   "id": "690455ea",
   "metadata": {},
   "outputs": [],
   "source": [
    "s = \"my name is shivamjha\"\n",
    "s"
   ]
  },
  {
   "cell_type": "code",
   "execution_count": null,
   "id": "d610804a",
   "metadata": {},
   "outputs": [],
   "source": [
    "s[11:2:-1]"
   ]
  },
  {
   "cell_type": "code",
   "execution_count": null,
   "id": "12c1a0f1",
   "metadata": {},
   "outputs": [],
   "source": [
    "s[::-1]"
   ]
  },
  {
   "cell_type": "code",
   "execution_count": null,
   "id": "87c0581f",
   "metadata": {},
   "outputs": [],
   "source": [
    "s[2:-6]"
   ]
  },
  {
   "cell_type": "code",
   "execution_count": null,
   "id": "75a462d4",
   "metadata": {},
   "outputs": [],
   "source": [
    "for i in s:\n",
    "    if i == 'v':\n",
    "        print(\"I got v as a string\")\n",
    "    print(i)\n"
   ]
  },
  {
   "cell_type": "code",
   "execution_count": null,
   "id": "e3f01761",
   "metadata": {},
   "outputs": [],
   "source": [
    "for i in s:\n",
    "    print(i)\n",
    "else: \n",
    "    print(\"This is a else condition\")"
   ]
  },
  {
   "cell_type": "code",
   "execution_count": null,
   "id": "375f9d3a",
   "metadata": {},
   "outputs": [],
   "source": []
  },
  {
   "cell_type": "code",
   "execution_count": null,
   "id": "aab12e84",
   "metadata": {},
   "outputs": [],
   "source": [
    "n = 5\n",
    "for i in range(n,0,-1):\n",
    "    for j in range(0,n-i):\n",
    "        print(' ', end ='')\n",
    "        \n",
    "    for j in range(2*i-1):\n",
    "        print('*', end ='')\n",
    "    print()\n",
    "    "
   ]
  },
  {
   "cell_type": "code",
   "execution_count": null,
   "id": "d4f2967a",
   "metadata": {},
   "outputs": [],
   "source": [
    "num = 5\n",
    "m = 2 * num - 2\n",
    "for i in range(num, -1,-1):\n",
    "    for j in range(m,0,-1):\n",
    "        print(end=\" \")\n",
    "    m = m +1\n",
    "    for j in range(0,i+1):\n",
    "        print('*', end =' ')\n",
    "    print(\"\")"
   ]
  },
  {
   "cell_type": "code",
   "execution_count": null,
   "id": "d7cce260",
   "metadata": {},
   "outputs": [],
   "source": [
    "n = 9\n",
    "i = 0\n",
    "while i < n:\n",
    "    print(' '*(n-i-1) + '* '*(i+1))\n",
    "    i = i+1"
   ]
  },
  {
   "cell_type": "code",
   "execution_count": null,
   "id": "9cd9e592",
   "metadata": {},
   "outputs": [],
   "source": [
    "pwd"
   ]
  },
  {
   "cell_type": "code",
   "execution_count": null,
   "id": "cc3b75d8",
   "metadata": {},
   "outputs": [],
   "source": [
    "l = [\"shiv\",34567,'sbjsbdljs',True,45+8j,[3,5,6,\"jha\"],6.78]\n",
    "l"
   ]
  },
  {
   "cell_type": "code",
   "execution_count": null,
   "id": "82dfb030",
   "metadata": {},
   "outputs": [],
   "source": [
    "l[5]"
   ]
  },
  {
   "cell_type": "code",
   "execution_count": null,
   "id": "85bd74f8",
   "metadata": {},
   "outputs": [],
   "source": [
    "l[8:3:-1]"
   ]
  },
  {
   "cell_type": "code",
   "execution_count": null,
   "id": "5bac779d",
   "metadata": {},
   "outputs": [],
   "source": [
    "s = \"This is Shivam Jha\"\n",
    "s"
   ]
  },
  {
   "cell_type": "code",
   "execution_count": null,
   "id": "deed339b",
   "metadata": {},
   "outputs": [],
   "source": [
    "len(s)"
   ]
  },
  {
   "cell_type": "code",
   "execution_count": null,
   "id": "0274ac30",
   "metadata": {},
   "outputs": [],
   "source": []
  },
  {
   "cell_type": "code",
   "execution_count": null,
   "id": "1b2d9900",
   "metadata": {},
   "outputs": [],
   "source": [
    "for i in range(len(s)):\n",
    "    print(s[i])\n",
    "    i = i + 1\n",
    "    "
   ]
  },
  {
   "cell_type": "code",
   "execution_count": null,
   "id": "9649e915",
   "metadata": {},
   "outputs": [],
   "source": [
    "pwd"
   ]
  },
  {
   "cell_type": "code",
   "execution_count": null,
   "id": "7d0ad528",
   "metadata": {},
   "outputs": [],
   "source": [
    "'shivam' + 'jha'"
   ]
  },
  {
   "cell_type": "code",
   "execution_count": null,
   "id": "830c70aa",
   "metadata": {},
   "outputs": [],
   "source": [
    "'shivam' + ['jha', 3,4,5,6]"
   ]
  },
  {
   "cell_type": "code",
   "execution_count": null,
   "id": "8ea478da",
   "metadata": {},
   "outputs": [],
   "source": [
    "'sudh' * 6"
   ]
  },
  {
   "cell_type": "code",
   "execution_count": null,
   "id": "13cf357f",
   "metadata": {},
   "outputs": [],
   "source": [
    "s"
   ]
  },
  {
   "cell_type": "code",
   "execution_count": null,
   "id": "d2c790b4",
   "metadata": {},
   "outputs": [],
   "source": [
    "s.count('s')"
   ]
  },
  {
   "cell_type": "code",
   "execution_count": null,
   "id": "a6ab2f5f",
   "metadata": {},
   "outputs": [],
   "source": [
    "s.find('Shivam')"
   ]
  },
  {
   "cell_type": "code",
   "execution_count": null,
   "id": "70cbc96f",
   "metadata": {},
   "outputs": [],
   "source": [
    "for i in s.index(\"Shivam\"):\n",
    "    i = i + 1 "
   ]
  },
  {
   "cell_type": "code",
   "execution_count": null,
   "id": "d42ea9c4",
   "metadata": {},
   "outputs": [],
   "source": [
    "b = s.find('Shivam')\n",
    "for i in range(len('Shivam')):\n",
    "    print(b + i)"
   ]
  },
  {
   "cell_type": "code",
   "execution_count": null,
   "id": "d1dce3f3",
   "metadata": {},
   "outputs": [],
   "source": [
    "s.split(',')"
   ]
  },
  {
   "cell_type": "code",
   "execution_count": null,
   "id": "6fcc91e4",
   "metadata": {},
   "outputs": [],
   "source": [
    "s.swapcase()"
   ]
  },
  {
   "cell_type": "code",
   "execution_count": null,
   "id": "6bf5e7cf",
   "metadata": {},
   "outputs": [],
   "source": [
    "s"
   ]
  },
  {
   "cell_type": "code",
   "execution_count": null,
   "id": "c8e99e46",
   "metadata": {},
   "outputs": [],
   "source": [
    "\"@\".join(s)"
   ]
  },
  {
   "cell_type": "code",
   "execution_count": null,
   "id": "0b147c29",
   "metadata": {},
   "outputs": [],
   "source": [
    "s"
   ]
  },
  {
   "cell_type": "code",
   "execution_count": null,
   "id": "ab8fd81a",
   "metadata": {},
   "outputs": [],
   "source": [
    "m = \"  ndsklkldf    \"\n",
    "m"
   ]
  },
  {
   "cell_type": "code",
   "execution_count": null,
   "id": "dd7cc01e",
   "metadata": {},
   "outputs": [],
   "source": [
    "m.rstrip()"
   ]
  },
  {
   "cell_type": "code",
   "execution_count": null,
   "id": "bf16bab0",
   "metadata": {},
   "outputs": [],
   "source": [
    "a  = \"we all are a part of Full Stack\"\n",
    "b = a.lower()\n",
    "print('lower:', b )\n",
    "c = a.count('a')\n",
    "print('Count of a :',c)\n",
    "for i in range(len('we all are a part of Full Stack')):\n",
    "    if a[i]== 'a':\n",
    "        print(i)\n",
    "str = a.replace(\"a\",\"iNeutron\")\n",
    "print('Replace a with iNeutron:',str)\n",
    "print(a.split())"
   ]
  },
  {
   "cell_type": "code",
   "execution_count": null,
   "id": "3d91eaa9",
   "metadata": {},
   "outputs": [],
   "source": [
    "a.lower()"
   ]
  },
  {
   "cell_type": "code",
   "execution_count": null,
   "id": "827261f6",
   "metadata": {},
   "outputs": [],
   "source": [
    "a.count('a')"
   ]
  },
  {
   "cell_type": "code",
   "execution_count": null,
   "id": "a373db33",
   "metadata": {},
   "outputs": [],
   "source": [
    "b = a.find('a')\n",
    "b"
   ]
  },
  {
   "cell_type": "code",
   "execution_count": null,
   "id": "b28a2894",
   "metadata": {},
   "outputs": [],
   "source": [
    "len(a)"
   ]
  },
  {
   "cell_type": "code",
   "execution_count": null,
   "id": "a5aef255",
   "metadata": {},
   "outputs": [],
   "source": []
  },
  {
   "cell_type": "code",
   "execution_count": null,
   "id": "6d9e546a",
   "metadata": {},
   "outputs": [],
   "source": [
    "for i in range(len('we all are a part of Full Stack')):\n",
    "    if a[i]== 'a':\n",
    "        print(i)"
   ]
  },
  {
   "cell_type": "code",
   "execution_count": null,
   "id": "3305d832",
   "metadata": {},
   "outputs": [],
   "source": [
    "b = a.replace(\"a\",\"iNeutron\")\n",
    "b.split()"
   ]
  },
  {
   "cell_type": "code",
   "execution_count": null,
   "id": "754ede97",
   "metadata": {},
   "outputs": [],
   "source": []
  },
  {
   "cell_type": "code",
   "execution_count": null,
   "id": "fe76b884",
   "metadata": {},
   "outputs": [],
   "source": []
  },
  {
   "cell_type": "code",
   "execution_count": null,
   "id": "5afb44ad",
   "metadata": {},
   "outputs": [],
   "source": [
    "x = 4\n",
    "y = 5\n",
    "\n",
    "a = x < y\n",
    "b = x > y\n",
    "print(a)\n",
    "print(b)\n",
    "type(a)\n",
    "type(b)\n"
   ]
  },
  {
   "cell_type": "code",
   "execution_count": null,
   "id": "d1c37493",
   "metadata": {},
   "outputs": [],
   "source": []
  },
  {
   "cell_type": "code",
   "execution_count": null,
   "id": "5ccca832",
   "metadata": {},
   "outputs": [],
   "source": [
    "#Make a list of each Boolean operator's truth tables \n",
    "#(i.e. every possible combination of Boolean values for the operator and what it evaluate ).\n",
    "\n",
    "x = 4\n",
    "y = 5\n"
   ]
  },
  {
   "cell_type": "code",
   "execution_count": null,
   "id": "c0335efd",
   "metadata": {
    "scrolled": true
   },
   "outputs": [],
   "source": [
    "print(\"x == y:\", x == y)\n",
    "print(\"x != y:\", x != y)\n",
    "print(\"x < y:\", x < y)\n",
    "print(\"x > y:\", x > y)\n",
    "print(\"x <= y:\", x <= y)\n",
    "print(\"x >= y:\", x >= y)"
   ]
  },
  {
   "cell_type": "code",
   "execution_count": null,
   "id": "12122915",
   "metadata": {},
   "outputs": [],
   "source": [
    "a = True\n",
    "type(a)\n",
    " \n",
    "b = False\n",
    "type(b)"
   ]
  },
  {
   "cell_type": "code",
   "execution_count": null,
   "id": "012c93e5",
   "metadata": {},
   "outputs": [],
   "source": [
    "(5 > 4) and (3 == 5)"
   ]
  },
  {
   "cell_type": "code",
   "execution_count": null,
   "id": "00722038",
   "metadata": {},
   "outputs": [],
   "source": [
    "not(5 > 4)"
   ]
  },
  {
   "cell_type": "code",
   "execution_count": null,
   "id": "be6a9724",
   "metadata": {},
   "outputs": [],
   "source": [
    "(5 > 4) or (3 == 5)"
   ]
  },
  {
   "cell_type": "code",
   "execution_count": null,
   "id": "6d5d95ee",
   "metadata": {},
   "outputs": [],
   "source": [
    "not ((5 > 4) or (3 == 5))"
   ]
  },
  {
   "cell_type": "code",
   "execution_count": null,
   "id": "d7a11792",
   "metadata": {},
   "outputs": [],
   "source": [
    "(True and True) and (True == False)"
   ]
  },
  {
   "cell_type": "code",
   "execution_count": null,
   "id": "c0e54135",
   "metadata": {},
   "outputs": [],
   "source": [
    "(not False) or (not True)"
   ]
  },
  {
   "cell_type": "code",
   "execution_count": null,
   "id": "2e4d148d",
   "metadata": {},
   "outputs": [],
   "source": [
    "spam = 0\n",
    "\n",
    "## from line number 4 to 5 is Block 1\n",
    "if spam == 10:\n",
    "    print('eggs')\n",
    "    \n",
    "## from line number 8 to 9 is Block 2\n",
    "if spam > 5:\n",
    "    print('bacon')\n",
    "    \n",
    "## from line number 12 to 15 is Block 2\n",
    "else:\n",
    "    print('ham')\n",
    "    print('spam')\n",
    "    print('spam')\n"
   ]
  },
  {
   "cell_type": "code",
   "execution_count": 3,
   "id": "d17ef19c",
   "metadata": {},
   "outputs": [
    {
     "name": "stdout",
     "output_type": "stream",
     "text": [
      "1\n",
      "Hello\n"
     ]
    }
   ],
   "source": [
    "\"\"\"Write code that prints Hello if 1 is stored in spam, prints Howdy \n",
    "if 2 is stored in spam, and prints Greetings! if anything else is stored in spam.\n",
    "\"\"\"\n",
    "\n",
    "spam = int(input())\n",
    "if spam == 1:            ## this condition will prints Hello if 1 is stored in spam\n",
    "    print(\"Hello\")\n",
    "elif spam == 2:          ## this condition will prints Howdy if 2 is stored in spam\n",
    "    print(\"Howdy\")\n",
    "else:                    ## this condition will prints Greetings! if anything is stored in spam\n",
    "    print(\"Greetings!\")"
   ]
  },
  {
   "cell_type": "code",
   "execution_count": 4,
   "id": "4c54b584",
   "metadata": {},
   "outputs": [
    {
     "name": "stdout",
     "output_type": "stream",
     "text": [
      "10\n",
      "20\n",
      "30\n",
      "40\n"
     ]
    }
   ],
   "source": [
    "num = [10, 20, 30, 40, 50]\n",
    "for i in num:\n",
    "    if i > 40:\n",
    "        break\n",
    "    print(i)\n"
   ]
  },
  {
   "cell_type": "code",
   "execution_count": 5,
   "id": "7fc83c20",
   "metadata": {},
   "outputs": [
    {
     "name": "stdout",
     "output_type": "stream",
     "text": [
      "10\n",
      "20\n",
      "30\n",
      "40\n",
      "25\n",
      "35\n"
     ]
    }
   ],
   "source": [
    "num = [10, 20, 30, 40, 50, 25, 35]\n",
    "for i in num:\n",
    "    # skip below statement if number is greater than 40\n",
    "    if i > 40:\n",
    "        continue\n",
    "    print(i)"
   ]
  },
  {
   "cell_type": "code",
   "execution_count": 24,
   "id": "19f2976b",
   "metadata": {},
   "outputs": [
    {
     "name": "stdout",
     "output_type": "stream",
     "text": [
      "range(0, 10)\n",
      "Values =  0\n",
      "Values =  1\n",
      "Values =  2\n",
      "Values =  3\n",
      "Values =  4\n",
      "Values =  5\n",
      "Values =  6\n",
      "Values =  7\n",
      "Values =  8\n",
      "Values =  9\n"
     ]
    }
   ],
   "source": [
    "num_range_1 = range(10) #start=0, stop=10, step=1\n",
    "print(num_range_1)\n",
    "for i in num_range_1:\n",
    "    print('Values = ', num_range_1[i])"
   ]
  },
  {
   "cell_type": "code",
   "execution_count": 27,
   "id": "3e73e210",
   "metadata": {},
   "outputs": [
    {
     "name": "stdout",
     "output_type": "stream",
     "text": [
      "range(0, 10)\n",
      "Values =  0\n",
      "Values =  1\n",
      "Values =  2\n",
      "Values =  3\n",
      "Values =  4\n",
      "Values =  5\n",
      "Values =  6\n",
      "Values =  7\n",
      "Values =  8\n",
      "Values =  9\n"
     ]
    }
   ],
   "source": [
    "num_range_2 = range(0,10) #start=0, stop=10, step=1\n",
    "print(num_range_2)\n",
    "for i in num_range_2:\n",
    "    print('Values = ', num_range_2[i])"
   ]
  },
  {
   "cell_type": "code",
   "execution_count": 28,
   "id": "16bf2389",
   "metadata": {},
   "outputs": [
    {
     "name": "stdout",
     "output_type": "stream",
     "text": [
      "range(0, 10)\n",
      "Values =  0\n",
      "Values =  1\n",
      "Values =  2\n",
      "Values =  3\n",
      "Values =  4\n",
      "Values =  5\n",
      "Values =  6\n",
      "Values =  7\n",
      "Values =  8\n",
      "Values =  9\n"
     ]
    }
   ],
   "source": [
    "num_range_3 = range(0,10,1) #start=0, stop=10, step=1\n",
    "print(num_range_3)\n",
    "for i in num_range_3:\n",
    "    print('Values = ', num_range_3[i])"
   ]
  },
  {
   "cell_type": "code",
   "execution_count": 31,
   "id": "1120aa45",
   "metadata": {},
   "outputs": [
    {
     "name": "stdout",
     "output_type": "stream",
     "text": [
      "1\n",
      "2\n",
      "3\n",
      "4\n",
      "5\n",
      "6\n",
      "7\n",
      "8\n",
      "9\n",
      "10\n"
     ]
    }
   ],
   "source": [
    "for i in range(1,11):\n",
    "    print(i)"
   ]
  },
  {
   "cell_type": "code",
   "execution_count": 36,
   "id": "40940b6c",
   "metadata": {},
   "outputs": [
    {
     "name": "stdout",
     "output_type": "stream",
     "text": [
      "1\n",
      "2\n",
      "3\n",
      "4\n",
      "5\n",
      "6\n",
      "7\n",
      "8\n",
      "9\n",
      "10\n"
     ]
    }
   ],
   "source": [
    "num = 1\n",
    "while num <= 10:\n",
    "    print(num)\n",
    "    num = num +1"
   ]
  },
  {
   "cell_type": "code",
   "execution_count": null,
   "id": "aad81dca",
   "metadata": {},
   "outputs": [],
   "source": [
    "i = 1\n",
    "while(i<=10):\n",
    "    print(i)\n",
    "    i += 1"
   ]
  }
 ],
 "metadata": {
  "kernelspec": {
   "display_name": "Python 3 (ipykernel)",
   "language": "python",
   "name": "python3"
  },
  "language_info": {
   "codemirror_mode": {
    "name": "ipython",
    "version": 3
   },
   "file_extension": ".py",
   "mimetype": "text/x-python",
   "name": "python",
   "nbconvert_exporter": "python",
   "pygments_lexer": "ipython3",
   "version": "3.9.7"
  }
 },
 "nbformat": 4,
 "nbformat_minor": 5
}
